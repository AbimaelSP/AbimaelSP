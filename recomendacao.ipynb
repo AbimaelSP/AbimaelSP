{
  "nbformat": 4,
  "nbformat_minor": 0,
  "metadata": {
    "name": "regressao",
    "notebookId": 4244901800397064,
    "colab": {
      "name": "recomendacao.ipynb",
      "provenance": [],
      "toc_visible": true,
      "include_colab_link": true
    },
    "language_info": {
      "name": "python"
    },
    "kernelspec": {
      "name": "python3",
      "display_name": "Python 3"
    }
  },
  "cells": [
    {
      "cell_type": "markdown",
      "metadata": {
        "id": "view-in-github",
        "colab_type": "text"
      },
      "source": [
        "<a href=\"https://colab.research.google.com/github/AbimaelSP/AbimaelSP/blob/main/recomendacao.ipynb\" target=\"_parent\"><img src=\"https://colab.research.google.com/assets/colab-badge.svg\" alt=\"Open In Colab\"/></a>"
      ]
    },
    {
      "cell_type": "code",
      "metadata": {
        "id": "e2OSYvgfr9Qx"
      },
      "source": [
        "#noetbook utilizado para a aula sobre sistemas de recomendação"
      ],
      "execution_count": 2,
      "outputs": []
    },
    {
      "cell_type": "markdown",
      "metadata": {
        "id": "rBQUV0ofr9Q6"
      },
      "source": [
        "#1) Carregar os dados\n",
        "#2) Pré-processamento dos dados\n",
        "#3) Divisão dos dados entre treinamento e teste\n",
        "#4) Criar o sistema de recomendação através do ALS\n",
        "#5) Realizar previsões\n",
        "#6) Testar o modelo"
      ]
    },
    {
      "cell_type": "code",
      "metadata": {
        "id": "NFsTXJlPvYYh"
      },
      "source": [
        ""
      ],
      "execution_count": null,
      "outputs": []
    },
    {
      "cell_type": "code",
      "metadata": {
        "colab": {
          "base_uri": "https://localhost:8080/",
          "height": 316
        },
        "id": "ZfjsAXaar9Q9",
        "outputId": "9126955c-3e74-4045-e3c0-d961a15872cd"
      },
      "source": [
        "from pyspark.sql import SparkSession #importa a biblioteca que cria a seção do spark"
      ],
      "execution_count": 3,
      "outputs": [
        {
          "output_type": "error",
          "ename": "ModuleNotFoundError",
          "evalue": "ignored",
          "traceback": [
            "\u001b[0;31m---------------------------------------------------------------------------\u001b[0m",
            "\u001b[0;31mModuleNotFoundError\u001b[0m                       Traceback (most recent call last)",
            "\u001b[0;32m<ipython-input-3-7cc911bf317e>\u001b[0m in \u001b[0;36m<module>\u001b[0;34m()\u001b[0m\n\u001b[0;32m----> 1\u001b[0;31m \u001b[0;32mfrom\u001b[0m \u001b[0mpyspark\u001b[0m\u001b[0;34m.\u001b[0m\u001b[0msql\u001b[0m \u001b[0;32mimport\u001b[0m \u001b[0mSparkSession\u001b[0m \u001b[0;31m#importa a biblioteca que cria a seção do spark\u001b[0m\u001b[0;34m\u001b[0m\u001b[0;34m\u001b[0m\u001b[0m\n\u001b[0m",
            "\u001b[0;31mModuleNotFoundError\u001b[0m: No module named 'pyspark'",
            "",
            "\u001b[0;31m---------------------------------------------------------------------------\u001b[0;32m\nNOTE: If your import is failing due to a missing package, you can\nmanually install dependencies using either !pip or !apt.\n\nTo view examples of installing some common dependencies, click the\n\"Open Examples\" button below.\n\u001b[0;31m---------------------------------------------------------------------------\u001b[0m\n"
          ]
        }
      ]
    },
    {
      "cell_type": "code",
      "metadata": {
        "id": "_5vIiG0yr9Q-",
        "outputId": "bbcf7308-3f97-4ab3-e038-b935c0f724f8"
      },
      "source": [
        "#inicia a seção para a utilização do spark\n",
        "spark = SparkSession.builder.appName(\"recomendacao\").getOrCreate() #cria a seção caso não exista ou obtém a já criada"
      ],
      "execution_count": null,
      "outputs": [
        {
          "output_type": "display_data",
          "data": {
            "text/html": [
              "<style scoped>\n",
              "  .ansiout {\n",
              "    display: block;\n",
              "    unicode-bidi: embed;\n",
              "    white-space: pre-wrap;\n",
              "    word-wrap: break-word;\n",
              "    word-break: break-all;\n",
              "    font-family: \"Source Code Pro\", \"Menlo\", monospace;;\n",
              "    font-size: 13px;\n",
              "    color: #555;\n",
              "    margin-left: 4px;\n",
              "    line-height: 19px;\n",
              "  }\n",
              "</style>\n",
              "<div class=\"ansiout\"></div>"
            ]
          },
          "metadata": {
            "tags": []
          }
        }
      ]
    },
    {
      "cell_type": "code",
      "metadata": {
        "id": "69YzcQ8Br9Q_",
        "outputId": "76a3e2cb-e8fe-495d-f36b-ceff9dc2026a"
      },
      "source": [
        "%fs ls /FileStore/tables"
      ],
      "execution_count": null,
      "outputs": [
        {
          "output_type": "display_data",
          "data": {
            "text/html": [
              "<style scoped>\n",
              "  .table-result-container {\n",
              "    max-height: 300px;\n",
              "    overflow: auto;\n",
              "  }\n",
              "  table, th, td {\n",
              "    border: 1px solid black;\n",
              "    border-collapse: collapse;\n",
              "  }\n",
              "  th, td {\n",
              "    padding: 5px;\n",
              "  }\n",
              "  th {\n",
              "    text-align: left;\n",
              "  }\n",
              "</style><div class='table-result-container'><table class='table-result'><thead style='background-color: white'><tr><th>path</th><th>name</th><th>size</th></tr></thead><tbody><tr><td>dbfs:/FileStore/tables/Police_Department_Incident_Reports__Historical_2003_to_May_2018.csv</td><td>Police_Department_Incident_Reports__Historical_2003_to_May_2018.csv</td><td>463094961</td></tr><tr><td>dbfs:/FileStore/tables/d1995_07_01-24d0c.json</td><td>d1995_07_01-24d0c.json</td><td>7451741</td></tr><tr><td>dbfs:/FileStore/tables/d1995_07_02-c3f44.json</td><td>d1995_07_02-c3f44.json</td><td>9572086</td></tr><tr><td>dbfs:/FileStore/tables/d1995_07_03-f99af.json</td><td>d1995_07_03-f99af.json</td><td>14125303</td></tr><tr><td>dbfs:/FileStore/tables/d1995_07_04-c5a7f.json</td><td>d1995_07_04-c5a7f.json</td><td>12030333</td></tr><tr><td>dbfs:/FileStore/tables/d1995_07_05-0f261.json</td><td>d1995_07_05-0f261.json</td><td>14662194</td></tr><tr><td>dbfs:/FileStore/tables/d1995_07_06-20619.json</td><td>d1995_07_06-20619.json</td><td>15557682</td></tr><tr><td>dbfs:/FileStore/tables/d1995_07_07-2dd8d.json</td><td>d1995_07_07-2dd8d.json</td><td>15279295</td></tr><tr><td>dbfs:/FileStore/tables/d1995_07_08-83302.json</td><td>d1995_07_08-83302.json</td><td>7033852</td></tr><tr><td>dbfs:/FileStore/tables/d1995_07_09-f75d3.json</td><td>d1995_07_09-f75d3.json</td><td>5589076</td></tr><tr><td>dbfs:/FileStore/tables/d1995_07_10-160a3.json</td><td>d1995_07_10-160a3.json</td><td>10616482</td></tr><tr><td>dbfs:/FileStore/tables/d1995_07_11-8800f.json</td><td>d1995_07_11-8800f.json</td><td>12486245</td></tr><tr><td>dbfs:/FileStore/tables/d1995_07_12-3091c.json</td><td>d1995_07_12-3091c.json</td><td>14080494</td></tr><tr><td>dbfs:/FileStore/tables/d1995_07_13-242b2.json</td><td>d1995_07_13-242b2.json</td><td>21989188</td></tr><tr><td>dbfs:/FileStore/tables/d1995_07_14-bab67.json</td><td>d1995_07_14-bab67.json</td><td>13780636</td></tr><tr><td>dbfs:/FileStore/tables/d1995_07_15-57e08.json</td><td>d1995_07_15-57e08.json</td><td>8057272</td></tr><tr><td>dbfs:/FileStore/tables/d1995_07_16-2ca03.json</td><td>d1995_07_16-2ca03.json</td><td>7171848</td></tr><tr><td>dbfs:/FileStore/tables/d1995_07_17-905a5.json</td><td>d1995_07_17-905a5.json</td><td>11897536</td></tr><tr><td>dbfs:/FileStore/tables/d1995_07_18-13b8b.json</td><td>d1995_07_18-13b8b.json</td><td>10569098</td></tr><tr><td>dbfs:/FileStore/tables/d1995_07_19-e2537.json</td><td>d1995_07_19-e2537.json</td><td>11515206</td></tr><tr><td>dbfs:/FileStore/tables/d1995_07_20-0f6d2.json</td><td>d1995_07_20-0f6d2.json</td><td>11049142</td></tr><tr><td>dbfs:/FileStore/tables/d1995_07_21-37a88.json</td><td>d1995_07_21-37a88.json</td><td>10475868</td></tr><tr><td>dbfs:/FileStore/tables/d1995_07_22-3b894.json</td><td>d1995_07_22-3b894.json</td><td>6028420</td></tr><tr><td>dbfs:/FileStore/tables/d1995_07_23-8d606.json</td><td>d1995_07_23-8d606.json</td><td>5620028</td></tr><tr><td>dbfs:/FileStore/tables/d1995_07_24-bcae5.json</td><td>d1995_07_24-bcae5.json</td><td>10433367</td></tr><tr><td>dbfs:/FileStore/tables/d1995_07_25-22c14.json</td><td>d1995_07_25-22c14.json</td><td>9883055</td></tr><tr><td>dbfs:/FileStore/tables/d1995_07_26-8a504.json</td><td>d1995_07_26-8a504.json</td><td>9087395</td></tr><tr><td>dbfs:/FileStore/tables/d1995_07_27-32f69.json</td><td>d1995_07_27-32f69.json</td><td>10172162</td></tr><tr><td>dbfs:/FileStore/tables/d1995_07_28-8d6d2.json</td><td>d1995_07_28-8d6d2.json</td><td>6206927</td></tr><tr><td>dbfs:/FileStore/tables/designation.json</td><td>designation.json</td><td>400</td></tr><tr><td>dbfs:/FileStore/tables/digits.csv</td><td>digits.csv</td><td>338477</td></tr><tr><td>dbfs:/FileStore/tables/digitsNew.csv</td><td>digitsNew.csv</td><td>76775041</td></tr><tr><td>dbfs:/FileStore/tables/iris_bezdekIris.csv</td><td>iris_bezdekIris.csv</td><td>4551</td></tr><tr><td>dbfs:/FileStore/tables/kddcup_data_10_percent_corrected-2f6f3</td><td>kddcup_data_10_percent_corrected-2f6f3</td><td>74889749</td></tr><tr><td>dbfs:/FileStore/tables/regressaoLinear.csv</td><td>regressaoLinear.csv</td><td>564</td></tr><tr><td>dbfs:/FileStore/tables/salario_df.csv</td><td>salario_df.csv</td><td>2505</td></tr><tr><td>dbfs:/FileStore/tables/salary.json</td><td>salary.json</td><td>361</td></tr><tr><td>dbfs:/FileStore/tables/temperature.csv</td><td>temperature.csv</td><td>13971171</td></tr><tr><td>dbfs:/FileStore/tables/transport_nodes-7c826.csv</td><td>transport_nodes-7c826.csv</td><td>465</td></tr><tr><td>dbfs:/FileStore/tables/transport_relationships-c2bfc.csv</td><td>transport_relationships-c2bfc.csv</td><td>550</td></tr><tr><td>dbfs:/FileStore/tables/u.data</td><td>u.data</td><td>1979173</td></tr><tr><td>dbfs:/FileStore/tables/winequality_red-42ff5.csv</td><td>winequality_red-42ff5.csv</td><td>84199</td></tr><tr><td>dbfs:/FileStore/tables/worldcities.csv</td><td>worldcities.csv</td><td>1667065</td></tr></tbody></table></div>"
            ]
          },
          "metadata": {
            "tags": []
          }
        }
      ]
    },
    {
      "cell_type": "code",
      "metadata": {
        "id": "yRr3Kx49r9RA",
        "outputId": "6a045887-a845-4dd7-8994-f06ce640269c"
      },
      "source": [
        "diretorioRecomendacao=\"/FileStore/tables/u.data\"  #diretório que contém o arquivo a ser utilizado"
      ],
      "execution_count": null,
      "outputs": [
        {
          "output_type": "display_data",
          "data": {
            "text/html": [
              "<style scoped>\n",
              "  .ansiout {\n",
              "    display: block;\n",
              "    unicode-bidi: embed;\n",
              "    white-space: pre-wrap;\n",
              "    word-wrap: break-word;\n",
              "    word-break: break-all;\n",
              "    font-family: \"Source Code Pro\", \"Menlo\", monospace;;\n",
              "    font-size: 13px;\n",
              "    color: #555;\n",
              "    margin-left: 4px;\n",
              "    line-height: 19px;\n",
              "  }\n",
              "</style>\n",
              "<div class=\"ansiout\"></div>"
            ]
          },
          "metadata": {
            "tags": []
          }
        }
      ]
    },
    {
      "cell_type": "markdown",
      "metadata": {
        "id": "xtbSkv9jr9RB"
      },
      "source": [
        "#1) Carregando o arquivo."
      ]
    },
    {
      "cell_type": "code",
      "metadata": {
        "id": "1a4pGaOTr9RC",
        "outputId": "a4545250-27e7-4ad1-d4f8-5125d629a30e"
      },
      "source": [
        "#lendo arquivos armazenados através da função genérica\n",
        "rdd_movies = spark.sparkContext.textFile(diretorioRecomendacao)"
      ],
      "execution_count": null,
      "outputs": [
        {
          "output_type": "display_data",
          "data": {
            "text/html": [
              "<style scoped>\n",
              "  .ansiout {\n",
              "    display: block;\n",
              "    unicode-bidi: embed;\n",
              "    white-space: pre-wrap;\n",
              "    word-wrap: break-word;\n",
              "    word-break: break-all;\n",
              "    font-family: \"Source Code Pro\", \"Menlo\", monospace;;\n",
              "    font-size: 13px;\n",
              "    color: #555;\n",
              "    margin-left: 4px;\n",
              "    line-height: 19px;\n",
              "  }\n",
              "</style>\n",
              "<div class=\"ansiout\"></div>"
            ]
          },
          "metadata": {
            "tags": []
          }
        }
      ]
    },
    {
      "cell_type": "code",
      "metadata": {
        "id": "XdlBt16Sr9RE",
        "outputId": "785545f4-79f5-4cf2-ef7f-5a3b0cc8b4a2"
      },
      "source": [
        "rdd_movies.take(10)  #user id | item id | rating | timestamp"
      ],
      "execution_count": null,
      "outputs": [
        {
          "output_type": "display_data",
          "data": {
            "text/html": [
              "<style scoped>\n",
              "  .ansiout {\n",
              "    display: block;\n",
              "    unicode-bidi: embed;\n",
              "    white-space: pre-wrap;\n",
              "    word-wrap: break-word;\n",
              "    word-break: break-all;\n",
              "    font-family: \"Source Code Pro\", \"Menlo\", monospace;;\n",
              "    font-size: 13px;\n",
              "    color: #555;\n",
              "    margin-left: 4px;\n",
              "    line-height: 19px;\n",
              "  }\n",
              "</style>\n",
              "<div class=\"ansiout\">Out[6]: [&#39;196\\t242\\t3\\t881250949&#39;,\n",
              " &#39;186\\t302\\t3\\t891717742&#39;,\n",
              " &#39;22\\t377\\t1\\t878887116&#39;,\n",
              " &#39;244\\t51\\t2\\t880606923&#39;,\n",
              " &#39;166\\t346\\t1\\t886397596&#39;,\n",
              " &#39;298\\t474\\t4\\t884182806&#39;,\n",
              " &#39;115\\t265\\t2\\t881171488&#39;,\n",
              " &#39;253\\t465\\t5\\t891628467&#39;,\n",
              " &#39;305\\t451\\t3\\t886324817&#39;,\n",
              " &#39;6\\t86\\t3\\t883603013&#39;]</div>"
            ]
          },
          "metadata": {
            "tags": []
          }
        }
      ]
    },
    {
      "cell_type": "code",
      "metadata": {
        "id": "8USkAm-wr9RF",
        "outputId": "59d8a935-6926-4b84-85e8-55204599346f"
      },
      "source": [
        "#definindo as bibliotecas a serem utilizadas\n",
        "from pyspark.mllib.recommendation import ALS, Rating  #MLlib utilizada para implementar os algoritmos ALS e Rating"
      ],
      "execution_count": null,
      "outputs": [
        {
          "output_type": "display_data",
          "data": {
            "text/html": [
              "<style scoped>\n",
              "  .ansiout {\n",
              "    display: block;\n",
              "    unicode-bidi: embed;\n",
              "    white-space: pre-wrap;\n",
              "    word-wrap: break-word;\n",
              "    word-break: break-all;\n",
              "    font-family: \"Source Code Pro\", \"Menlo\", monospace;;\n",
              "    font-size: 13px;\n",
              "    color: #555;\n",
              "    margin-left: 4px;\n",
              "    line-height: 19px;\n",
              "  }\n",
              "</style>\n",
              "<div class=\"ansiout\"></div>"
            ]
          },
          "metadata": {
            "tags": []
          }
        }
      ]
    },
    {
      "cell_type": "markdown",
      "metadata": {
        "id": "767EB6hbr9RH"
      },
      "source": [
        "#2) Pré-processamento dos dados\n",
        "#3) Separando os dados para treinamento e teste"
      ]
    },
    {
      "cell_type": "code",
      "metadata": {
        "id": "iN8YNdcHr9RH",
        "outputId": "23a9490e-1eda-4d1e-9b9e-3e7f4529a1a6"
      },
      "source": [
        "#dividindo os dados entre treinamento e teste\n",
        "(trainRatings, testRatings) = rdd_movies.randomSplit([0.7, 0.3])"
      ],
      "execution_count": null,
      "outputs": [
        {
          "output_type": "display_data",
          "data": {
            "text/html": [
              "<style scoped>\n",
              "  .ansiout {\n",
              "    display: block;\n",
              "    unicode-bidi: embed;\n",
              "    white-space: pre-wrap;\n",
              "    word-wrap: break-word;\n",
              "    word-break: break-all;\n",
              "    font-family: \"Source Code Pro\", \"Menlo\", monospace;;\n",
              "    font-size: 13px;\n",
              "    color: #555;\n",
              "    margin-left: 4px;\n",
              "    line-height: 19px;\n",
              "  }\n",
              "</style>\n",
              "<div class=\"ansiout\"></div>"
            ]
          },
          "metadata": {
            "tags": []
          }
        }
      ]
    },
    {
      "cell_type": "code",
      "metadata": {
        "id": "OBB7De71r9RI",
        "outputId": "a646105e-3b10-4f84-ebda-838478be95c3"
      },
      "source": [
        "trainRatings.take(5)"
      ],
      "execution_count": null,
      "outputs": [
        {
          "output_type": "display_data",
          "data": {
            "text/html": [
              "<style scoped>\n",
              "  .ansiout {\n",
              "    display: block;\n",
              "    unicode-bidi: embed;\n",
              "    white-space: pre-wrap;\n",
              "    word-wrap: break-word;\n",
              "    word-break: break-all;\n",
              "    font-family: \"Source Code Pro\", \"Menlo\", monospace;;\n",
              "    font-size: 13px;\n",
              "    color: #555;\n",
              "    margin-left: 4px;\n",
              "    line-height: 19px;\n",
              "  }\n",
              "</style>\n",
              "<div class=\"ansiout\">Out[9]: [&#39;196\\t242\\t3\\t881250949&#39;,\n",
              " &#39;186\\t302\\t3\\t891717742&#39;,\n",
              " &#39;22\\t377\\t1\\t878887116&#39;,\n",
              " &#39;166\\t346\\t1\\t886397596&#39;,\n",
              " &#39;115\\t265\\t2\\t881171488&#39;]</div>"
            ]
          },
          "metadata": {
            "tags": []
          }
        }
      ]
    },
    {
      "cell_type": "code",
      "metadata": {
        "id": "yNVL4559r9RJ",
        "outputId": "69d9823e-27cc-4591-d29f-8682ea364ca1"
      },
      "source": [
        "testRatings.first()  #print da primeira linha do RDD"
      ],
      "execution_count": null,
      "outputs": [
        {
          "output_type": "display_data",
          "data": {
            "text/html": [
              "<style scoped>\n",
              "  .ansiout {\n",
              "    display: block;\n",
              "    unicode-bidi: embed;\n",
              "    white-space: pre-wrap;\n",
              "    word-wrap: break-word;\n",
              "    word-break: break-all;\n",
              "    font-family: \"Source Code Pro\", \"Menlo\", monospace;;\n",
              "    font-size: 13px;\n",
              "    color: #555;\n",
              "    margin-left: 4px;\n",
              "    line-height: 19px;\n",
              "  }\n",
              "</style>\n",
              "<div class=\"ansiout\">Out[10]: &#39;244\\t51\\t2\\t880606923&#39;</div>"
            ]
          },
          "metadata": {
            "tags": []
          }
        }
      ]
    },
    {
      "cell_type": "code",
      "metadata": {
        "id": "MSd4UZjmr9RJ",
        "outputId": "0347fbbb-1879-49f1-bad4-339978cc8e64"
      },
      "source": [
        "trainingData = trainRatings.map(lambda l: l.split('\\t')).map(lambda l: Rating(int(l[0]), int(l[1]), float(l[2])))  #aplicando a função Rating"
      ],
      "execution_count": null,
      "outputs": [
        {
          "output_type": "display_data",
          "data": {
            "text/html": [
              "<style scoped>\n",
              "  .ansiout {\n",
              "    display: block;\n",
              "    unicode-bidi: embed;\n",
              "    white-space: pre-wrap;\n",
              "    word-wrap: break-word;\n",
              "    word-break: break-all;\n",
              "    font-family: \"Source Code Pro\", \"Menlo\", monospace;;\n",
              "    font-size: 13px;\n",
              "    color: #555;\n",
              "    margin-left: 4px;\n",
              "    line-height: 19px;\n",
              "  }\n",
              "</style>\n",
              "<div class=\"ansiout\"></div>"
            ]
          },
          "metadata": {
            "tags": []
          }
        }
      ]
    },
    {
      "cell_type": "code",
      "metadata": {
        "id": "QAGbbRZZr9RK",
        "outputId": "05679ecb-bc99-4d39-fae2-f7fd334c32c4"
      },
      "source": [
        "trainingData.first()  #print do RDD criado através da função Rating"
      ],
      "execution_count": null,
      "outputs": [
        {
          "output_type": "display_data",
          "data": {
            "text/html": [
              "<style scoped>\n",
              "  .ansiout {\n",
              "    display: block;\n",
              "    unicode-bidi: embed;\n",
              "    white-space: pre-wrap;\n",
              "    word-wrap: break-word;\n",
              "    word-break: break-all;\n",
              "    font-family: \"Source Code Pro\", \"Menlo\", monospace;;\n",
              "    font-size: 13px;\n",
              "    color: #555;\n",
              "    margin-left: 4px;\n",
              "    line-height: 19px;\n",
              "  }\n",
              "</style>\n",
              "<div class=\"ansiout\">Out[12]: Rating(user=196, product=242, rating=3.0)</div>"
            ]
          },
          "metadata": {
            "tags": []
          }
        }
      ]
    },
    {
      "cell_type": "code",
      "metadata": {
        "id": "lSJRJjdpr9RL",
        "outputId": "1c621594-a9f7-40d1-8c88-3ab53bea0734"
      },
      "source": [
        "#mesmo procedimento para os dados de teste\n",
        "testData = testRatings.map(lambda l: l.split('\\t')).map(lambda l: (int(l[0]), int(l[1])))"
      ],
      "execution_count": null,
      "outputs": [
        {
          "output_type": "display_data",
          "data": {
            "text/html": [
              "<style scoped>\n",
              "  .ansiout {\n",
              "    display: block;\n",
              "    unicode-bidi: embed;\n",
              "    white-space: pre-wrap;\n",
              "    word-wrap: break-word;\n",
              "    word-break: break-all;\n",
              "    font-family: \"Source Code Pro\", \"Menlo\", monospace;;\n",
              "    font-size: 13px;\n",
              "    color: #555;\n",
              "    margin-left: 4px;\n",
              "    line-height: 19px;\n",
              "  }\n",
              "</style>\n",
              "<div class=\"ansiout\"></div>"
            ]
          },
          "metadata": {
            "tags": []
          }
        }
      ]
    },
    {
      "cell_type": "code",
      "metadata": {
        "id": "PuOLfADZr9RM",
        "outputId": "c8c78ab8-7115-429e-9466-00740093ed4c"
      },
      "source": [
        "testData.first()  #id do usuário | id do filme"
      ],
      "execution_count": null,
      "outputs": [
        {
          "output_type": "display_data",
          "data": {
            "text/html": [
              "<style scoped>\n",
              "  .ansiout {\n",
              "    display: block;\n",
              "    unicode-bidi: embed;\n",
              "    white-space: pre-wrap;\n",
              "    word-wrap: break-word;\n",
              "    word-break: break-all;\n",
              "    font-family: \"Source Code Pro\", \"Menlo\", monospace;;\n",
              "    font-size: 13px;\n",
              "    color: #555;\n",
              "    margin-left: 4px;\n",
              "    line-height: 19px;\n",
              "  }\n",
              "</style>\n",
              "<div class=\"ansiout\">Out[14]: (244, 51)</div>"
            ]
          },
          "metadata": {
            "tags": []
          }
        }
      ]
    },
    {
      "cell_type": "markdown",
      "metadata": {
        "id": "vh82cJf2r9RN"
      },
      "source": [
        "#4) Construindo o modelo ALS"
      ]
    },
    {
      "cell_type": "code",
      "metadata": {
        "id": "YDL_tx1Gr9RO",
        "outputId": "2ac89b08-6d08-4e21-ec21-4fff2f873ce2"
      },
      "source": [
        "#definindo as variáveis do modelo\n",
        "rank = 10  # número de fatores latentes do modelo  R->P (usuários)*Q (itens) => R_mxn = P_mxrank * Q_rankxm  (em que m= numero de usuário e n= numero de itens)\n",
        "numIterations = 50 #número de iterações realizadas pelo modelo\n",
        "model = ALS.train(trainingData, rank, numIterations) # treina o modelo"
      ],
      "execution_count": null,
      "outputs": [
        {
          "output_type": "display_data",
          "data": {
            "text/html": [
              "<style scoped>\n",
              "  .ansiout {\n",
              "    display: block;\n",
              "    unicode-bidi: embed;\n",
              "    white-space: pre-wrap;\n",
              "    word-wrap: break-word;\n",
              "    word-break: break-all;\n",
              "    font-family: \"Source Code Pro\", \"Menlo\", monospace;;\n",
              "    font-size: 13px;\n",
              "    color: #555;\n",
              "    margin-left: 4px;\n",
              "    line-height: 19px;\n",
              "  }\n",
              "</style>\n",
              "<div class=\"ansiout\"></div>"
            ]
          },
          "metadata": {
            "tags": []
          }
        }
      ]
    },
    {
      "cell_type": "markdown",
      "metadata": {
        "id": "By8I_gumr9RP"
      },
      "source": [
        "#5) Previsão do modelo"
      ]
    },
    {
      "cell_type": "code",
      "metadata": {
        "id": "2yYNYwdIr9RP",
        "outputId": "a3708784-b19e-40c8-c0ae-a9d3c79e7955"
      },
      "source": [
        "model.predict(253, 465)  # entrada (usuário,produto)"
      ],
      "execution_count": null,
      "outputs": [
        {
          "output_type": "display_data",
          "data": {
            "text/html": [
              "<style scoped>\n",
              "  .ansiout {\n",
              "    display: block;\n",
              "    unicode-bidi: embed;\n",
              "    white-space: pre-wrap;\n",
              "    word-wrap: break-word;\n",
              "    word-break: break-all;\n",
              "    font-family: \"Source Code Pro\", \"Menlo\", monospace;;\n",
              "    font-size: 13px;\n",
              "    color: #555;\n",
              "    margin-left: 4px;\n",
              "    line-height: 19px;\n",
              "  }\n",
              "</style>\n",
              "<div class=\"ansiout\">Out[16]: 3.9086929950865077</div>"
            ]
          },
          "metadata": {
            "tags": []
          }
        }
      ]
    },
    {
      "cell_type": "code",
      "metadata": {
        "id": "AvxsFwePr9RQ",
        "outputId": "861fc74b-10cb-4c8f-c2c8-542cb2848c84"
      },
      "source": [
        "previsao = model.predictAll(testData)  #previsão para todos os dados de teste\n",
        "previsao.first()"
      ],
      "execution_count": null,
      "outputs": [
        {
          "output_type": "display_data",
          "data": {
            "text/html": [
              "<style scoped>\n",
              "  .ansiout {\n",
              "    display: block;\n",
              "    unicode-bidi: embed;\n",
              "    white-space: pre-wrap;\n",
              "    word-wrap: break-word;\n",
              "    word-break: break-all;\n",
              "    font-family: \"Source Code Pro\", \"Menlo\", monospace;;\n",
              "    font-size: 13px;\n",
              "    color: #555;\n",
              "    margin-left: 4px;\n",
              "    line-height: 19px;\n",
              "  }\n",
              "</style>\n",
              "<div class=\"ansiout\">Out[17]: Rating(user=894, product=1080, rating=2.187004642601909)</div>"
            ]
          },
          "metadata": {
            "tags": []
          }
        }
      ]
    },
    {
      "cell_type": "code",
      "metadata": {
        "id": "essCjRRLr9RQ",
        "outputId": "50a5c909-794e-4edb-9f57-42cf2e8464b6"
      },
      "source": [
        "previsao = previsao.map(lambda l: ((l[0], l[1]), l[2])) #mapea para a exibição\n",
        "previsao.take(5)"
      ],
      "execution_count": null,
      "outputs": [
        {
          "output_type": "display_data",
          "data": {
            "text/html": [
              "<style scoped>\n",
              "  .ansiout {\n",
              "    display: block;\n",
              "    unicode-bidi: embed;\n",
              "    white-space: pre-wrap;\n",
              "    word-wrap: break-word;\n",
              "    word-break: break-all;\n",
              "    font-family: \"Source Code Pro\", \"Menlo\", monospace;;\n",
              "    font-size: 13px;\n",
              "    color: #555;\n",
              "    margin-left: 4px;\n",
              "    line-height: 19px;\n",
              "  }\n",
              "</style>\n",
              "<div class=\"ansiout\">Out[18]: [((894, 1080), 2.187004642601909),\n",
              " ((264, 320), 5.565980638755637),\n",
              " ((385, 320), 6.956242876993615),\n",
              " ((49, 320), 5.81031221038799),\n",
              " ((118, 320), 3.900088577898167)]</div>"
            ]
          },
          "metadata": {
            "tags": []
          }
        }
      ]
    },
    {
      "cell_type": "code",
      "metadata": {
        "id": "Ot-qfMjhr9RR",
        "outputId": "90a2a98d-2428-412f-f10b-2e9bf6f8e69f"
      },
      "source": [
        "testRating2 = testRatings.map(lambda l: l.split('\\t')).map(lambda l: ((int(l[0]), int(l[1])), float(l[2]))) # mapea para exibição e utilização na análise"
      ],
      "execution_count": null,
      "outputs": [
        {
          "output_type": "display_data",
          "data": {
            "text/html": [
              "<style scoped>\n",
              "  .ansiout {\n",
              "    display: block;\n",
              "    unicode-bidi: embed;\n",
              "    white-space: pre-wrap;\n",
              "    word-wrap: break-word;\n",
              "    word-break: break-all;\n",
              "    font-family: \"Source Code Pro\", \"Menlo\", monospace;;\n",
              "    font-size: 13px;\n",
              "    color: #555;\n",
              "    margin-left: 4px;\n",
              "    line-height: 19px;\n",
              "  }\n",
              "</style>\n",
              "<div class=\"ansiout\"></div>"
            ]
          },
          "metadata": {
            "tags": []
          }
        }
      ]
    },
    {
      "cell_type": "code",
      "metadata": {
        "id": "xyuYD_LMr9RR",
        "outputId": "2e00d722-64f7-424a-b453-3f746b8c5901"
      },
      "source": [
        "testRating2.first()"
      ],
      "execution_count": null,
      "outputs": [
        {
          "output_type": "display_data",
          "data": {
            "text/html": [
              "<style scoped>\n",
              "  .ansiout {\n",
              "    display: block;\n",
              "    unicode-bidi: embed;\n",
              "    white-space: pre-wrap;\n",
              "    word-wrap: break-word;\n",
              "    word-break: break-all;\n",
              "    font-family: \"Source Code Pro\", \"Menlo\", monospace;;\n",
              "    font-size: 13px;\n",
              "    color: #555;\n",
              "    margin-left: 4px;\n",
              "    line-height: 19px;\n",
              "  }\n",
              "</style>\n",
              "<div class=\"ansiout\">Out[21]: ((244, 51), 2.0)</div>"
            ]
          },
          "metadata": {
            "tags": []
          }
        }
      ]
    },
    {
      "cell_type": "code",
      "metadata": {
        "id": "wFjvkFCwr9RS",
        "outputId": "afdb8331-2f4f-4e3a-e6b1-59fcb4756d96"
      },
      "source": [
        "ratingsAndPredictions = testRating2.join(previsao)\n",
        "ratingsAndPredictions.take(5)"
      ],
      "execution_count": null,
      "outputs": [
        {
          "output_type": "display_data",
          "data": {
            "text/html": [
              "<style scoped>\n",
              "  .ansiout {\n",
              "    display: block;\n",
              "    unicode-bidi: embed;\n",
              "    white-space: pre-wrap;\n",
              "    word-wrap: break-word;\n",
              "    word-break: break-all;\n",
              "    font-family: \"Source Code Pro\", \"Menlo\", monospace;;\n",
              "    font-size: 13px;\n",
              "    color: #555;\n",
              "    margin-left: 4px;\n",
              "    line-height: 19px;\n",
              "  }\n",
              "</style>\n",
              "<div class=\"ansiout\">Out[22]: [((234, 1184), (2.0, 3.136279929500878)),\n",
              " ((20, 288), (1.0, 3.1563148849880296)),\n",
              " ((160, 174), (5.0, 3.608742030692189)),\n",
              " ((293, 471), (3.0, 2.690341659498764)),\n",
              " ((174, 368), (1.0, 1.2317709660007763))]</div>"
            ]
          },
          "metadata": {
            "tags": []
          }
        }
      ]
    },
    {
      "cell_type": "markdown",
      "metadata": {
        "id": "k1KJyFxfr9RT"
      },
      "source": [
        "#6) Avaliação do modelo"
      ]
    },
    {
      "cell_type": "code",
      "metadata": {
        "id": "v0JPzG6Xr9RT",
        "outputId": "5becbe8b-5945-453e-e449-3d48c8fad837"
      },
      "source": [
        "MSE = ratingsAndPredictions.map(lambda r: (r[1][0] - r[1][1])**2).mean()\n",
        "print (\"Erro médio quadrado = \" + str(MSE))"
      ],
      "execution_count": null,
      "outputs": [
        {
          "output_type": "display_data",
          "data": {
            "text/html": [
              "<style scoped>\n",
              "  .ansiout {\n",
              "    display: block;\n",
              "    unicode-bidi: embed;\n",
              "    white-space: pre-wrap;\n",
              "    word-wrap: break-word;\n",
              "    word-break: break-all;\n",
              "    font-family: \"Source Code Pro\", \"Menlo\", monospace;;\n",
              "    font-size: 13px;\n",
              "    color: #555;\n",
              "    margin-left: 4px;\n",
              "    line-height: 19px;\n",
              "  }\n",
              "</style>\n",
              "<div class=\"ansiout\">Erro médio quadrado = 1.3917179976332206\n",
              "</div>"
            ]
          },
          "metadata": {
            "tags": []
          }
        }
      ]
    },
    {
      "cell_type": "code",
      "metadata": {
        "id": "SbIjA8mir9RT",
        "outputId": "a4c42dd2-8bf1-4b6d-c7a4-d9cd07d3e7e5"
      },
      "source": [
        "#dado um usuário -> recomenda os top 5 produtos\n",
        "model.recommendProducts(105, 5) "
      ],
      "execution_count": null,
      "outputs": [
        {
          "output_type": "display_data",
          "data": {
            "text/html": [
              "<style scoped>\n",
              "  .ansiout {\n",
              "    display: block;\n",
              "    unicode-bidi: embed;\n",
              "    white-space: pre-wrap;\n",
              "    word-wrap: break-word;\n",
              "    word-break: break-all;\n",
              "    font-family: \"Source Code Pro\", \"Menlo\", monospace;;\n",
              "    font-size: 13px;\n",
              "    color: #555;\n",
              "    margin-left: 4px;\n",
              "    line-height: 19px;\n",
              "  }\n",
              "</style>\n",
              "<div class=\"ansiout\">Out[24]: [Rating(user=105, product=1086, rating=10.404151472284607),\n",
              " Rating(user=105, product=1282, rating=10.059519202435673),\n",
              " Rating(user=105, product=1129, rating=8.15539879719414),\n",
              " Rating(user=105, product=916, rating=8.139311224018458),\n",
              " Rating(user=105, product=1192, rating=8.115013085806174)]</div>"
            ]
          },
          "metadata": {
            "tags": []
          }
        }
      ]
    },
    {
      "cell_type": "code",
      "metadata": {
        "id": "2Db2Z1JJr9RU",
        "outputId": "20633500-76b1-4b34-f93c-5514c84ae71c"
      },
      "source": [
        "#dado um produto -> recomenda top 5 usuários\n",
        "model.recommendUsers(1, 5)  #filme Toy Story (1995)"
      ],
      "execution_count": null,
      "outputs": [
        {
          "output_type": "display_data",
          "data": {
            "text/html": [
              "<style scoped>\n",
              "  .ansiout {\n",
              "    display: block;\n",
              "    unicode-bidi: embed;\n",
              "    white-space: pre-wrap;\n",
              "    word-wrap: break-word;\n",
              "    word-break: break-all;\n",
              "    font-family: \"Source Code Pro\", \"Menlo\", monospace;;\n",
              "    font-size: 13px;\n",
              "    color: #555;\n",
              "    margin-left: 4px;\n",
              "    line-height: 19px;\n",
              "  }\n",
              "</style>\n",
              "<div class=\"ansiout\">Out[25]: [Rating(user=791, product=1, rating=6.663269162167041),\n",
              " Rating(user=341, product=1, rating=6.59332322597731),\n",
              " Rating(user=359, product=1, rating=5.920746848976035),\n",
              " Rating(user=810, product=1, rating=5.86259872350825),\n",
              " Rating(user=337, product=1, rating=5.8396218409615575)]</div>"
            ]
          },
          "metadata": {
            "tags": []
          }
        }
      ]
    },
    {
      "cell_type": "code",
      "metadata": {
        "id": "FYZ91rm3r9RU",
        "outputId": "eefb404b-4c74-4a3f-ec3d-6bd3f27b403f"
      },
      "source": [
        "#mostrando o vetor de características referentes usuários (coluna - P)\n",
        "model.userFeatures().take(1)[0]"
      ],
      "execution_count": null,
      "outputs": [
        {
          "output_type": "display_data",
          "data": {
            "text/html": [
              "<style scoped>\n",
              "  .ansiout {\n",
              "    display: block;\n",
              "    unicode-bidi: embed;\n",
              "    white-space: pre-wrap;\n",
              "    word-wrap: break-word;\n",
              "    word-break: break-all;\n",
              "    font-family: \"Source Code Pro\", \"Menlo\", monospace;;\n",
              "    font-size: 13px;\n",
              "    color: #555;\n",
              "    margin-left: 4px;\n",
              "    line-height: 19px;\n",
              "  }\n",
              "</style>\n",
              "<div class=\"ansiout\">Out[26]: (8,\n",
              " array(&#39;d&#39;, [-1.3223897218704224, -0.401091992855072, -0.020178183913230896, -0.654310941696167, 0.0015730439918115735, -0.7683062553405762, -0.1260661780834198, 1.0363516807556152, -1.0391936302185059, -0.14950275421142578]))</div>"
            ]
          },
          "metadata": {
            "tags": []
          }
        }
      ]
    },
    {
      "cell_type": "code",
      "metadata": {
        "id": "SzkRNgUwr9RV",
        "outputId": "eb2e2db6-08a9-437c-cec3-167af5ddca6d"
      },
      "source": [
        "#mostra o vetor de características referente a um produto (linha - Q)\n",
        "model.productFeatures().take(1)[0]"
      ],
      "execution_count": null,
      "outputs": [
        {
          "output_type": "display_data",
          "data": {
            "text/html": [
              "<style scoped>\n",
              "  .ansiout {\n",
              "    display: block;\n",
              "    unicode-bidi: embed;\n",
              "    white-space: pre-wrap;\n",
              "    word-wrap: break-word;\n",
              "    word-break: break-all;\n",
              "    font-family: \"Source Code Pro\", \"Menlo\", monospace;;\n",
              "    font-size: 13px;\n",
              "    color: #555;\n",
              "    margin-left: 4px;\n",
              "    line-height: 19px;\n",
              "  }\n",
              "</style>\n",
              "<div class=\"ansiout\">Out[27]: (8,\n",
              " array(&#39;d&#39;, [-1.7562367916107178, 0.6425478458404541, -0.2787933945655823, -0.23034699261188507, 0.9097221493721008, -0.7952987551689148, -0.5979781746864319, 0.8866454362869263, -0.6941563487052917, 0.6015448570251465]))</div>"
            ]
          },
          "metadata": {
            "tags": []
          }
        }
      ]
    }
  ]
}